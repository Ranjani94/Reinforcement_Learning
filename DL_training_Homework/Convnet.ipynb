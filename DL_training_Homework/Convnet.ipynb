{
  "nbformat": 4,
  "nbformat_minor": 0,
  "metadata": {
    "accelerator": "GPU",
    "colab": {
      "name": "Convnet.ipynb",
      "provenance": [],
      "authorship_tag": "ABX9TyNlGKydXxRG7s0v3yx+YJKs",
      "include_colab_link": true
    },
    "kernelspec": {
      "display_name": "Python 3",
      "name": "python3"
    }
  },
  "cells": [
    {
      "cell_type": "markdown",
      "metadata": {
        "id": "view-in-github",
        "colab_type": "text"
      },
      "source": [
        "<a href=\"https://colab.research.google.com/github/Ranjani94/Reinforcement_Learning/blob/main/DL_training_Homework/Convnet.ipynb\" target=\"_parent\"><img src=\"https://colab.research.google.com/assets/colab-badge.svg\" alt=\"Open In Colab\"/></a>"
      ]
    },
    {
      "cell_type": "code",
      "metadata": {
        "id": "Ek7pzTY_fnLg"
      },
      "source": [
        "import torch \n",
        "import torch.nn as nn\n",
        "import torchvision\n",
        "import torchvision.transforms as transforms"
      ],
      "execution_count": null,
      "outputs": []
    },
    {
      "cell_type": "code",
      "metadata": {
        "id": "Vew7bQTggsVr"
      },
      "source": [
        "# Device configuration\n",
        "device = torch.device('cuda:0' if torch.cuda.is_available() else 'cpu')"
      ],
      "execution_count": null,
      "outputs": []
    },
    {
      "cell_type": "code",
      "metadata": {
        "id": "iAU310Hdgu7x"
      },
      "source": [
        "# Hyper parameters\n",
        "num_epochs = 5\n",
        "num_classes = 10\n",
        "batch_size = 100\n",
        "learning_rate = 0.001"
      ],
      "execution_count": null,
      "outputs": []
    },
    {
      "cell_type": "code",
      "metadata": {
        "id": "85lbHkuwgwmB"
      },
      "source": [
        "# MNIST dataset\n",
        "train_dataset = torchvision.datasets.MNIST(root='../../data/',\n",
        "                                           train=True, \n",
        "                                           transform=transforms.ToTensor(),\n",
        "                                           download=True)\n",
        "\n",
        "test_dataset = torchvision.datasets.MNIST(root='../../data/',\n",
        "                                          train=False, \n",
        "                                          transform=transforms.ToTensor())\n",
        "\n",
        "# Data loader\n",
        "train_loader = torch.utils.data.DataLoader(dataset=train_dataset,\n",
        "                                           batch_size=batch_size, \n",
        "                                           shuffle=True)\n",
        "\n",
        "test_loader = torch.utils.data.DataLoader(dataset=test_dataset,\n",
        "                                          batch_size=batch_size, \n",
        "                                          shuffle=False)"
      ],
      "execution_count": null,
      "outputs": []
    },
    {
      "cell_type": "code",
      "metadata": {
        "id": "_EsHxIYRgybp"
      },
      "source": [
        "# Convolutional neural network (two convolutional layers)\n",
        "class ConvNet(nn.Module):\n",
        "    def __init__(self, num_classes=10):\n",
        "        super(ConvNet, self).__init__()\n",
        "        self.layer1 = nn.Sequential(\n",
        "            nn.Conv2d(1, 16, kernel_size=5, stride=1, padding=2),\n",
        "            nn.BatchNorm2d(16),\n",
        "            nn.ReLU(),\n",
        "            nn.MaxPool2d(kernel_size=2, stride=2))\n",
        "        self.layer2 = nn.Sequential(\n",
        "            nn.Conv2d(16, 32, kernel_size=5, stride=1, padding=2),\n",
        "            nn.BatchNorm2d(32),\n",
        "            nn.ReLU(),\n",
        "            nn.MaxPool2d(kernel_size=2, stride=2))\n",
        "        self.fc = nn.Linear(7*7*32, num_classes)\n",
        "        \n",
        "    def forward(self, x):\n",
        "        out = self.layer1(x)\n",
        "        out = self.layer2(out)\n",
        "        out = out.reshape(out.size(0), -1)\n",
        "        out = self.fc(out)\n",
        "        return out"
      ],
      "execution_count": null,
      "outputs": []
    },
    {
      "cell_type": "code",
      "metadata": {
        "id": "u6D7euk0g2RL",
        "outputId": "3037a35c-c690-406d-a971-11a3a360b7d3",
        "colab": {
          "background_save": true
        }
      },
      "source": [
        "model = ConvNet(num_classes).to(device)\n",
        "\n",
        "# Loss and optimizer\n",
        "criterion = nn.CrossEntropyLoss()\n",
        "optimizer = torch.optim.Adam(model.parameters(), lr=learning_rate)\n",
        "\n",
        "# Train the model\n",
        "total_step = len(train_loader)\n",
        "for epoch in range(num_epochs):\n",
        "    for i, (images, labels) in enumerate(train_loader):\n",
        "        images = images.to(device)\n",
        "        labels = labels.to(device)\n",
        "        \n",
        "        # Forward pass\n",
        "        outputs = model(images)\n",
        "        loss = criterion(outputs, labels)\n",
        "        \n",
        "        # Backward and optimize\n",
        "        optimizer.zero_grad()\n",
        "        loss.backward()\n",
        "        optimizer.step()\n",
        "        \n",
        "        if (i+1) % 100 == 0:\n",
        "            print ('Epoch [{}/{}], Step [{}/{}], Loss: {:.4f}' \n",
        "                   .format(epoch+1, num_epochs, i+1, total_step, loss.item()))"
      ],
      "execution_count": null,
      "outputs": [
        {
          "output_type": "stream",
          "text": [
            "Epoch [1/5], Step [100/600], Loss: 0.2019\n",
            "Epoch [1/5], Step [200/600], Loss: 0.0975\n",
            "Epoch [1/5], Step [300/600], Loss: 0.0272\n",
            "Epoch [1/5], Step [400/600], Loss: 0.0379\n",
            "Epoch [1/5], Step [500/600], Loss: 0.0301\n",
            "Epoch [1/5], Step [600/600], Loss: 0.0418\n",
            "Epoch [2/5], Step [100/600], Loss: 0.0297\n",
            "Epoch [2/5], Step [200/600], Loss: 0.0358\n",
            "Epoch [2/5], Step [300/600], Loss: 0.0815\n",
            "Epoch [2/5], Step [400/600], Loss: 0.0544\n",
            "Epoch [2/5], Step [500/600], Loss: 0.0843\n",
            "Epoch [2/5], Step [600/600], Loss: 0.0487\n",
            "Epoch [3/5], Step [100/600], Loss: 0.0220\n",
            "Epoch [3/5], Step [200/600], Loss: 0.0212\n",
            "Epoch [3/5], Step [300/600], Loss: 0.0590\n",
            "Epoch [3/5], Step [400/600], Loss: 0.0076\n",
            "Epoch [3/5], Step [500/600], Loss: 0.0131\n",
            "Epoch [3/5], Step [600/600], Loss: 0.0414\n",
            "Epoch [4/5], Step [100/600], Loss: 0.0270\n",
            "Epoch [4/5], Step [200/600], Loss: 0.0231\n",
            "Epoch [4/5], Step [300/600], Loss: 0.0913\n",
            "Epoch [4/5], Step [400/600], Loss: 0.0204\n",
            "Epoch [4/5], Step [500/600], Loss: 0.0211\n",
            "Epoch [4/5], Step [600/600], Loss: 0.0256\n",
            "Epoch [5/5], Step [100/600], Loss: 0.0068\n",
            "Epoch [5/5], Step [200/600], Loss: 0.0142\n",
            "Epoch [5/5], Step [300/600], Loss: 0.0502\n",
            "Epoch [5/5], Step [400/600], Loss: 0.0044\n",
            "Epoch [5/5], Step [500/600], Loss: 0.0110\n",
            "Epoch [5/5], Step [600/600], Loss: 0.0402\n"
          ],
          "name": "stdout"
        }
      ]
    },
    {
      "cell_type": "code",
      "metadata": {
        "id": "IXOshDjmg6wP",
        "outputId": "4f5f6813-7704-4c2c-f7fd-1d096a20701a",
        "colab": {
          "base_uri": "https://localhost:8080/",
          "height": 34
        }
      },
      "source": [
        "# Test the model\n",
        "model.eval()  # eval mode (batchnorm uses moving mean/variance instead of mini-batch mean/variance)\n",
        "with torch.no_grad():\n",
        "    correct = 0\n",
        "    total = 0\n",
        "    for images, labels in test_loader:\n",
        "        images = images.to(device)\n",
        "        labels = labels.to(device)\n",
        "        outputs = model(images)\n",
        "        _, predicted = torch.max(outputs.data, 1)\n",
        "        total += labels.size(0)\n",
        "        correct += (predicted == labels).sum().item()\n",
        "\n",
        "    print('Test Accuracy of the model on the 10000 test images: {} %'.format(100 * correct / total))\n",
        "\n",
        "# Save the model checkpoint\n",
        "torch.save(model.state_dict(), 'model.ckpt')"
      ],
      "execution_count": 9,
      "outputs": [
        {
          "output_type": "stream",
          "text": [
            "Test Accuracy of the model on the 10000 test images: 98.58 %\n"
          ],
          "name": "stdout"
        }
      ]
    }
  ]
}