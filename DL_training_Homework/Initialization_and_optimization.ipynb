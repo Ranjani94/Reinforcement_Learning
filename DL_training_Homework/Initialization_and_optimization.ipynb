{
  "nbformat": 4,
  "nbformat_minor": 0,
  "metadata": {
    "colab": {
      "name": "Initialization_and_optimization.ipynb",
      "provenance": [],
      "authorship_tag": "ABX9TyP+BYpwuABxTYJRo4FSTbk1",
      "include_colab_link": true
    },
    "kernelspec": {
      "name": "python3",
      "display_name": "Python 3"
    },
    "accelerator": "GPU"
  },
  "cells": [
    {
      "cell_type": "markdown",
      "metadata": {
        "id": "view-in-github",
        "colab_type": "text"
      },
      "source": [
        "<a href=\"https://colab.research.google.com/github/Ranjani94/Reinforcement_Learning/blob/main/DL_training_Homework/Initialization_and_optimization.ipynb\" target=\"_parent\"><img src=\"https://colab.research.google.com/assets/colab-badge.svg\" alt=\"Open In Colab\"/></a>"
      ]
    },
    {
      "cell_type": "code",
      "metadata": {
        "id": "EPJqGSWft-J-"
      },
      "source": [
        "import torch \n",
        "import torch.nn as nn\n",
        "import torchvision\n",
        "import torchvision.transforms as transforms"
      ],
      "execution_count": 27,
      "outputs": []
    },
    {
      "cell_type": "code",
      "metadata": {
        "id": "SAC9Mzjmt-7O"
      },
      "source": [
        "# Device configuration\n",
        "device = torch.device('cuda:0' if torch.cuda.is_available() else 'cpu')"
      ],
      "execution_count": 28,
      "outputs": []
    },
    {
      "cell_type": "code",
      "metadata": {
        "id": "6vkcFuSpt-4N"
      },
      "source": [
        "# Hyper parameters\n",
        "num_epochs = 5\n",
        "num_classes = 10\n",
        "batch_size = 100\n",
        "learning_rate = 0.001"
      ],
      "execution_count": 29,
      "outputs": []
    },
    {
      "cell_type": "code",
      "metadata": {
        "id": "Al6KG-x_t-0s"
      },
      "source": [
        "# MNIST dataset\n",
        "train_dataset = torchvision.datasets.MNIST(root='../../data/',\n",
        "                                           train=True, \n",
        "                                           transform=transforms.ToTensor(),\n",
        "                                           download=True)\n",
        "\n",
        "test_dataset = torchvision.datasets.MNIST(root='../../data/',\n",
        "                                          train=False, \n",
        "                                          transform=transforms.ToTensor())\n",
        "\n",
        "# Data loader\n",
        "train_loader = torch.utils.data.DataLoader(dataset=train_dataset,\n",
        "                                           batch_size=batch_size, \n",
        "                                           shuffle=True)\n",
        "\n",
        "test_loader = torch.utils.data.DataLoader(dataset=test_dataset,\n",
        "                                          batch_size=batch_size, \n",
        "                                          shuffle=False)"
      ],
      "execution_count": 30,
      "outputs": []
    },
    {
      "cell_type": "markdown",
      "metadata": {
        "id": "WNJs3NBfaFtl"
      },
      "source": [
        "## Applying He Initialization"
      ]
    },
    {
      "cell_type": "code",
      "metadata": {
        "id": "ru4wMUfat-uY"
      },
      "source": [
        "# Convolutional neural network (two convolutional layers)\n",
        "class ConvNet(nn.Module):\n",
        "    def __init__(self, num_classes=10):\n",
        "        super(ConvNet, self).__init__()\n",
        "        self.layer1 = nn.Sequential(\n",
        "            nn.Conv2d(1, 16, kernel_size=5, stride=1, padding=2),\n",
        "            nn.BatchNorm2d(16),\n",
        "            nn.ReLU(),\n",
        "            nn.MaxPool2d(kernel_size=2, stride=2))\n",
        "        self.layer2 = nn.Sequential(\n",
        "            nn.Conv2d(16, 32, kernel_size=5, stride=1, padding=2),\n",
        "            nn.BatchNorm2d(32),\n",
        "            nn.ReLU(),\n",
        "            nn.MaxPool2d(kernel_size=2, stride=2))\n",
        "        self.fc = nn.Linear(7*7*32, num_classes)\n",
        "        nn.init.kaiming_normal(self.fc.weight, mode='fan_in')\n",
        "        \n",
        "    def forward(self, x):\n",
        "        out = self.layer1(x)\n",
        "        out = self.layer2(out)\n",
        "        out = out.reshape(out.size(0), -1)\n",
        "        out = self.fc(out)\n",
        "        return out"
      ],
      "execution_count": 31,
      "outputs": []
    },
    {
      "cell_type": "code",
      "metadata": {
        "id": "8uaWV2cfU4QL",
        "outputId": "e8d1d389-9246-44da-9724-9c2086f31ca7",
        "colab": {
          "base_uri": "https://localhost:8080/",
          "height": 255
        }
      },
      "source": [
        "pip install pywick"
      ],
      "execution_count": 32,
      "outputs": [
        {
          "output_type": "stream",
          "text": [
            "Requirement already satisfied: pywick in /usr/local/lib/python3.6/dist-packages (0.5.6)\n",
            "Requirement already satisfied: torchvision in /usr/local/lib/python3.6/dist-packages (from pywick) (0.7.0+cu101)\n",
            "Requirement already satisfied: hickle in /usr/local/lib/python3.6/dist-packages (from pywick) (4.0.1)\n",
            "Requirement already satisfied: tqdm in /usr/local/lib/python3.6/dist-packages (from pywick) (4.41.1)\n",
            "Requirement already satisfied: h5py in /usr/local/lib/python3.6/dist-packages (from pywick) (2.10.0)\n",
            "Requirement already satisfied: pillow in /usr/local/lib/python3.6/dist-packages (from pywick) (7.0.0)\n",
            "Requirement already satisfied: six in /usr/local/lib/python3.6/dist-packages (from pywick) (1.15.0)\n",
            "Requirement already satisfied: torch in /usr/local/lib/python3.6/dist-packages (from pywick) (1.6.0+cu101)\n",
            "Requirement already satisfied: numpy in /usr/local/lib/python3.6/dist-packages (from pywick) (1.18.5)\n",
            "Requirement already satisfied: pandas in /usr/local/lib/python3.6/dist-packages (from pywick) (1.1.2)\n",
            "Requirement already satisfied: dill>=0.3.0 in /usr/local/lib/python3.6/dist-packages (from hickle->pywick) (0.3.2)\n",
            "Requirement already satisfied: future in /usr/local/lib/python3.6/dist-packages (from torch->pywick) (0.16.0)\n",
            "Requirement already satisfied: python-dateutil>=2.7.3 in /usr/local/lib/python3.6/dist-packages (from pandas->pywick) (2.8.1)\n",
            "Requirement already satisfied: pytz>=2017.2 in /usr/local/lib/python3.6/dist-packages (from pandas->pywick) (2018.9)\n"
          ],
          "name": "stdout"
        }
      ]
    },
    {
      "cell_type": "code",
      "metadata": {
        "id": "hS0KuQbLYBM4",
        "outputId": "d4927aca-bde9-4a8b-f409-86b6099d7220",
        "colab": {
          "base_uri": "https://localhost:8080/",
          "height": 34
        }
      },
      "source": [
        "pip install qhoptim"
      ],
      "execution_count": 33,
      "outputs": [
        {
          "output_type": "stream",
          "text": [
            "Requirement already satisfied: qhoptim in /usr/local/lib/python3.6/dist-packages (1.1.0)\n"
          ],
          "name": "stdout"
        }
      ]
    },
    {
      "cell_type": "markdown",
      "metadata": {
        "id": "ntc1tmMxY8xL"
      },
      "source": [
        "## Applying Nadam Optimizer using facebook qhoptim: Quasi-hyperbolic optimization which implements nadam optimizer"
      ]
    },
    {
      "cell_type": "code",
      "metadata": {
        "id": "aoSyG58xX7nz"
      },
      "source": [
        "from torch.optim.optimizer import Optimizer\n",
        "from qhoptim.pyt import QHM, QHAdam\n",
        "import qhoptim\n",
        "import pywick"
      ],
      "execution_count": 34,
      "outputs": []
    },
    {
      "cell_type": "code",
      "metadata": {
        "id": "nvdVagEdYMDw",
        "outputId": "0c0b52ff-1a75-4814-9fc4-dc62208e0c26",
        "colab": {
          "base_uri": "https://localhost:8080/",
          "height": 51
        }
      },
      "source": [
        "model = ConvNet(num_classes).to(device)\n",
        "\n",
        "# Loss and optimizer\n",
        "criterion = nn.CrossEntropyLoss()\n",
        "# optimizer = torch.optim.Adam(model.parameters(), lr=learning_rate)\n",
        "\n",
        "# optimizer = pywick.optimizers.nadam.Nadam(model.parameters(), lr=0.002, betas=(0.9, 0.999), eps=1e-08, weight_decay=0, schedule_decay=0.004)\n",
        "\n",
        "optimizer = qhoptim.pyt.QHAdam(model.parameters(), lr=0.001, betas=(0.9, 0.999), nus=(1.0, 1.0), weight_decay=0.0, decouple_weight_decay=False, eps=1e-08)"
      ],
      "execution_count": 35,
      "outputs": [
        {
          "output_type": "stream",
          "text": [
            "/usr/local/lib/python3.6/dist-packages/ipykernel_launcher.py:16: UserWarning: nn.init.kaiming_normal is now deprecated in favor of nn.init.kaiming_normal_.\n",
            "  app.launch_new_instance()\n"
          ],
          "name": "stderr"
        }
      ]
    },
    {
      "cell_type": "code",
      "metadata": {
        "id": "dFOBgzEzt-lM",
        "outputId": "61ffb969-9e91-4e19-9629-e24a6ad3c14d",
        "colab": {
          "base_uri": "https://localhost:8080/",
          "height": 527
        }
      },
      "source": [
        "# Train the model\n",
        "total_step = len(train_loader)\n",
        "for epoch in range(num_epochs):\n",
        "    for i, (images, labels) in enumerate(train_loader):\n",
        "        images = images.to(device)\n",
        "        labels = labels.to(device)\n",
        "        \n",
        "        # Forward pass\n",
        "        outputs = model(images)\n",
        "        loss = criterion(outputs, labels)\n",
        "        \n",
        "        # Backward and optimize\n",
        "        optimizer.zero_grad()\n",
        "        loss.backward()\n",
        "        optimizer.step()\n",
        "        \n",
        "        if (i+1) % 100 == 0:\n",
        "            print ('Epoch [{}/{}], Step [{}/{}], Loss: {:.4f}' \n",
        "                   .format(epoch+1, num_epochs, i+1, total_step, loss.item()))"
      ],
      "execution_count": 36,
      "outputs": [
        {
          "output_type": "stream",
          "text": [
            "Epoch [1/5], Step [100/600], Loss: 0.2493\n",
            "Epoch [1/5], Step [200/600], Loss: 0.1679\n",
            "Epoch [1/5], Step [300/600], Loss: 0.0609\n",
            "Epoch [1/5], Step [400/600], Loss: 0.0469\n",
            "Epoch [1/5], Step [500/600], Loss: 0.0834\n",
            "Epoch [1/5], Step [600/600], Loss: 0.0637\n",
            "Epoch [2/5], Step [100/600], Loss: 0.0705\n",
            "Epoch [2/5], Step [200/600], Loss: 0.0623\n",
            "Epoch [2/5], Step [300/600], Loss: 0.0210\n",
            "Epoch [2/5], Step [400/600], Loss: 0.0845\n",
            "Epoch [2/5], Step [500/600], Loss: 0.0237\n",
            "Epoch [2/5], Step [600/600], Loss: 0.1987\n",
            "Epoch [3/5], Step [100/600], Loss: 0.0506\n",
            "Epoch [3/5], Step [200/600], Loss: 0.0479\n",
            "Epoch [3/5], Step [300/600], Loss: 0.0496\n",
            "Epoch [3/5], Step [400/600], Loss: 0.0637\n",
            "Epoch [3/5], Step [500/600], Loss: 0.0159\n",
            "Epoch [3/5], Step [600/600], Loss: 0.1235\n",
            "Epoch [4/5], Step [100/600], Loss: 0.0357\n",
            "Epoch [4/5], Step [200/600], Loss: 0.0237\n",
            "Epoch [4/5], Step [300/600], Loss: 0.0183\n",
            "Epoch [4/5], Step [400/600], Loss: 0.0188\n",
            "Epoch [4/5], Step [500/600], Loss: 0.0310\n",
            "Epoch [4/5], Step [600/600], Loss: 0.0044\n",
            "Epoch [5/5], Step [100/600], Loss: 0.0052\n",
            "Epoch [5/5], Step [200/600], Loss: 0.0016\n",
            "Epoch [5/5], Step [300/600], Loss: 0.0414\n",
            "Epoch [5/5], Step [400/600], Loss: 0.0904\n",
            "Epoch [5/5], Step [500/600], Loss: 0.0024\n",
            "Epoch [5/5], Step [600/600], Loss: 0.0057\n"
          ],
          "name": "stdout"
        }
      ]
    },
    {
      "cell_type": "code",
      "metadata": {
        "id": "J4lYEtFit-f1",
        "outputId": "809ea4d7-936e-4f74-e9eb-1704bf4d6f36",
        "colab": {
          "base_uri": "https://localhost:8080/",
          "height": 34
        }
      },
      "source": [
        "# Test the model\n",
        "model.eval()  # eval mode (batchnorm uses moving mean/variance instead of mini-batch mean/variance)\n",
        "with torch.no_grad():\n",
        "    correct = 0\n",
        "    total = 0\n",
        "    for images, labels in test_loader:\n",
        "        images = images.to(device)\n",
        "        labels = labels.to(device)\n",
        "        outputs = model(images)\n",
        "        _, predicted = torch.max(outputs.data, 1)\n",
        "        total += labels.size(0)\n",
        "        correct += (predicted == labels).sum().item()\n",
        "\n",
        "    print('Test Accuracy of the model on the 10000 test images: {} %'.format(100 * correct / total))\n",
        "\n",
        "# Save the model checkpoint\n",
        "torch.save(model.state_dict(), 'model.ckpt')"
      ],
      "execution_count": 37,
      "outputs": [
        {
          "output_type": "stream",
          "text": [
            "Test Accuracy of the model on the 10000 test images: 99.03 %\n"
          ],
          "name": "stdout"
        }
      ]
    }
  ]
}